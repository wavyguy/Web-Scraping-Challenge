{
 "cells": [
  {
   "cell_type": "code",
   "execution_count": 24,
   "metadata": {},
   "outputs": [],
   "source": [
    "# Dependencies & Setup\n",
    "from splinter import browser \n",
    "from bs4 import BeautifulSoup as bs\n",
    "import pandas as pd\n",
    "import time \n",
    "import os"
   ]
  },
  {
   "cell_type": "code",
   "execution_count": 25,
   "metadata": {},
   "outputs": [],
   "source": [
    "def init_browser():\n",
    "    executable_path = {\"executable_path\": \"chromedriver.exe\"}\n",
    "    return Browser(\"chrome\", **executable_path, headless=False)"
   ]
  },
  {
   "cell_type": "code",
   "execution_count": 26,
   "metadata": {},
   "outputs": [],
   "source": [
    "# NASA Mars News\n",
    "browser = init_browser()\n",
    "\n",
    "# NASA Mars News Site\n",
    "url = \"https://mars.nasa.gov/news/\"\n",
    "browser.visit(url)\n",
    "\n",
    "time.sleep(3)\n",
    "\n",
    "# Scrape Page\n",
    "html = browser.html\n",
    "soup = bs(html, \"html.parser\")\n",
    "\n",
    "# News\n",
    "news = soup.find_all('div', class_=\"list_text\")[0]\n",
    "\n",
    "# Title\n",
    "news_title = news.find(class_=\"content_title\").text\n",
    "\n",
    "# News Article\n",
    "news_p = news.find(class_=\"article_teaser_body\").text\n",
    "\n",
    "# Date\n",
    "news_date = news.find(class_='list_date').text\n",
    "\n",
    "# Store As Dictionary\n",
    "news_data= {\n",
    "    \"News Date\": news_date,\n",
    "    \"News Title\": news_title,\n",
    "    \"News Paragraph\" : news_p\n",
    "}\n",
    "    \n",
    "      \n",
    "browser.quit()"
   ]
  },
  {
   "cell_type": "code",
   "execution_count": 28,
   "metadata": {},
   "outputs": [],
   "source": [
    "# JPL Mars Space Images - Featured Image\n",
    "browser = init_browser()\n",
    "\n",
    "# JPL Site\n",
    "url_jpl = \"https://www.jpl.nasa.gov/spaceimages/?search=&category=Mars\"\n",
    "browser.visit(url_jpl)\n",
    "\n",
    "time.sleep(3)\n",
    "\n",
    "# Scrape Page\n",
    "html= browser.html\n",
    "soup= bs(html, \"html.parser\")\n",
    "\n",
    " # Featured Image\n",
    "featured_image = soup.find('article', class_=\"carousel_item\")['style']\n",
    "\n",
    "# Image Name \n",
    "featured_image_name= (featured_image.split(\"wallpaper/\")[1]).split(\".jpg\")[0]\n",
    "\n",
    "# Image URL Creation\n",
    "jpl_url = \"https://www.jpl.nasa.gov/spaceimages/images/largesize/PIA16225_hires.jpg\"\n",
    "image_url= jpl_url + featured_image_name + \".jpg\"\n",
    "\n",
    "\n",
    "browser.quit()"
   ]
  },
  {
   "cell_type": "code",
   "execution_count": 30,
   "metadata": {},
   "outputs": [],
   "source": [
    "# Mars Facts\n",
    "url_facts =\"https://space-facts.com/mars/\"\n",
    "\n",
    "# Fact Table \n",
    "table = pd.read_html(url_facts)\n",
    "fact_table = pd.DataFrame(table[0])\n",
    "\n",
    "fact_table = fact_table.rename(columns={\n",
    "    0 : \"Description\",\n",
    "    1 : \"Value\"\n",
    "})\n",
    "\n",
    "fact_table.set_index(\"Description\", inplace = True)\n",
    "\n",
    "# Table to HTML\n",
    "table_html = fact_table.to_html()\n",
    "table_html= table_html.replace('\\n',\"\")"
   ]
  },
  {
   "cell_type": "code",
   "execution_count": 31,
   "metadata": {},
   "outputs": [],
   "source": [
    "# Mars Hemisphere\n",
    "browser = init_browser()\n",
    "\n",
    "# Scrape Mars Hemispheres\n",
    "hemisphere_url = \"https://astrogeology.usgs.gov\"\n",
    "hemisphere_img = \"https://astrogeology.usgs.gov/search/results?q=hemisphere+enhanced&k1=target&v1=Mars\"\n",
    "browser.visit(hemisphere_img)\n",
    "\n",
    "time.sleep(3)\n",
    "\n",
    "# Scrape Page\n",
    "html= browser.html\n",
    "soup= bs(html, \"html.parser\")\n",
    "\n",
    "# URL\n",
    "url_list= []\n",
    "for x in range (8):\n",
    "    if (x % 2) == 0:\n",
    "        url_img = soup.find('div', class_=\"collapsible results\").find_all('a')[x]['href']\n",
    "        url_full = hemisphere_url + url_img\n",
    "        url_list.append(url_full)\n",
    "\n",
    "browser.quit()"
   ]
  },
  {
   "cell_type": "code",
   "execution_count": 32,
   "metadata": {},
   "outputs": [],
   "source": [
    "# Title & URLs\n",
    "hemisphere_url = \"https://astrogeology.usgs.gov\"\n",
    "\n",
    "final_output = []\n",
    "\n",
    "# URL & Title \n",
    "for url in url_list:\n",
    "    browser = init_browser()\n",
    "    browser.visit(url)\n",
    "\n",
    "    time.sleep (3)\n",
    "\n",
    "    # Scrape Page\n",
    "    html = browser.html\n",
    "    soup = bs(html, \"html.parser\")\n",
    "\n",
    "    # URL of Each Image \n",
    "    src_image = soup.find('img', class_=\"wide-image\")['src']\n",
    "    final_image = hemisphere_url + src_image\n",
    "\n",
    "    # Title of Each Image \n",
    "    title_of_image = soup.find('h2', class_=\"title\").get_text()\n",
    "\n",
    "    # Dictionary \n",
    "    dic = {\"Title\": title_of_image ,\n",
    "          \"Image_URL\": final_image}\n",
    "\n",
    "    final_output.append(dic)\n",
    "\n",
    "    browser.quit()"
   ]
  },
  {
   "cell_type": "code",
   "execution_count": 37,
   "metadata": {},
   "outputs": [],
   "source": [
    "# Last Dictionary Containing All Discovered Info.\n",
    "hemisphere_image_urls = {\n",
    "    \"News Date\": news_date,\n",
    "    \"News Title\": news_title,\n",
    "    \"News Paragraph\": news_p,\n",
    "    \"Featured Image URL\": image_url,\n",
    "    \"Fact Table\": table_html,\n",
    "    \"Hemisphere_Image_Title_1\": final_output[0][\"Title\"],\n",
    "    \"Hemisphere_Image_URL_1\": final_output[0][\"Image_URL\"],\n",
    "    \"Hemisphere_Image_Title_2\": final_output[1][\"Title\"],\n",
    "    \"Hemisphere_Image_URL_2\": final_output[1][\"Image_URL\"],\n",
    "    \"Hemisphere_Image_Title_3\": final_output[2][\"Title\"],\n",
    "    \"Hemisphere_Image_URL_3\": final_output[2][\"Image_URL\"],\n",
    "    \"Hemisphere_Image_Title_4\": final_output[3][\"Title\"],\n",
    "    \"Hemisphere_Image_URL_4\": final_output[3][\"Image_URL\"] \n",
    "}"
   ]
  },
  {
   "cell_type": "code",
   "execution_count": 38,
   "metadata": {},
   "outputs": [
    {
     "name": "stdout",
     "output_type": "stream",
     "text": [
      "{'News Date': 'September 28, 2020', 'News Title': \"NASA's New Mars Rover Is Ready for Space Lasers\", 'News Paragraph': 'Perseverance is one of a few Mars spacecraft carrying laser retroreflectors. The devices could provide new science and safer Mars landings in the future.', 'Featured Image URL': 'https://www.jpl.nasa.gov/spaceimages/images/largesize/PIA16225_hires.jpgPIA18848-1920x1200.jpg', 'Fact Table': '<table border=\"1\" class=\"dataframe\">  <thead>    <tr style=\"text-align: right;\">      <th></th>      <th>Value</th>    </tr>    <tr>      <th>Description</th>      <th></th>    </tr>  </thead>  <tbody>    <tr>      <th>Equatorial Diameter:</th>      <td>6,792 km</td>    </tr>    <tr>      <th>Polar Diameter:</th>      <td>6,752 km</td>    </tr>    <tr>      <th>Mass:</th>      <td>6.39 × 10^23 kg (0.11 Earths)</td>    </tr>    <tr>      <th>Moons:</th>      <td>2 (Phobos &amp; Deimos)</td>    </tr>    <tr>      <th>Orbit Distance:</th>      <td>227,943,824 km (1.38 AU)</td>    </tr>    <tr>      <th>Orbit Period:</th>      <td>687 days (1.9 years)</td>    </tr>    <tr>      <th>Surface Temperature:</th>      <td>-87 to -5 °C</td>    </tr>    <tr>      <th>First Record:</th>      <td>2nd millennium BC</td>    </tr>    <tr>      <th>Recorded By:</th>      <td>Egyptian astronomers</td>    </tr>  </tbody></table>', 'Hemisphere_Image_Title_1': 'Cerberus Hemisphere Enhanced', 'Hemisphere_Image_URL_1': 'https://astrogeology.usgs.gov/cache/images/f5e372a36edfa389625da6d0cc25d905_cerberus_enhanced.tif_full.jpg', 'Hemisphere_Image_Title_2': 'Schiaparelli Hemisphere Enhanced', 'Hemisphere_Image_URL_2': 'https://astrogeology.usgs.gov/cache/images/3778f7b43bbbc89d6e3cfabb3613ba93_schiaparelli_enhanced.tif_full.jpg', 'Hemisphere_Image_Title_3': 'Syrtis Major Hemisphere Enhanced', 'Hemisphere_Image_URL_3': 'https://astrogeology.usgs.gov/cache/images/555e6403a6ddd7ba16ddb0e471cadcf7_syrtis_major_enhanced.tif_full.jpg', 'Hemisphere_Image_Title_4': 'Valles Marineris Hemisphere Enhanced', 'Hemisphere_Image_URL_4': 'https://astrogeology.usgs.gov/cache/images/b3c7c6c9138f57b4756be9b9c43e3a48_valles_marineris_enhanced.tif_full.jpg'}\n"
     ]
    }
   ],
   "source": [
    "print(hemisphere_image_urls)"
   ]
  }
 ],
 "metadata": {
  "kernelspec": {
   "display_name": "Python 3",
   "language": "python",
   "name": "python3"
  },
  "language_info": {
   "codemirror_mode": {
    "name": "ipython",
    "version": 3
   },
   "file_extension": ".py",
   "mimetype": "text/x-python",
   "name": "python",
   "nbconvert_exporter": "python",
   "pygments_lexer": "ipython3",
   "version": "3.7.6"
  }
 },
 "nbformat": 4,
 "nbformat_minor": 4
}
